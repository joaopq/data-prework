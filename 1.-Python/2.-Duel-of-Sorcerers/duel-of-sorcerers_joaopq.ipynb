{
 "cells": [
  {
   "cell_type": "markdown",
   "metadata": {},
   "source": [
    "<img src=\"https://bit.ly/2VnXWr2\" width=\"100\" align=\"left\">"
   ]
  },
  {
   "cell_type": "markdown",
   "metadata": {},
   "source": [
    "# Duel of Sorcerers\n",
    "You are witnessing an epic battle between two powerful sorcerers: Gandalf and Saruman. Each sorcerer has 10 spells of variable power in their mind and they are going to throw them one after the other. The winner of the duel will be the one who wins more of those clashes between spells. Spells are represented as a list of 10 integers whose value equals the power of the spell.\n",
    "```\n",
    "gandalf = [10, 11, 13, 30, 22, 11, 10, 33, 22, 22]\n",
    "saruman = [23, 66, 12, 43, 12, 10, 44, 23, 12, 17]\n",
    "```\n",
    "For example:\n",
    "- The first clash is won by Saruman: 10 against 23.\n",
    "- The second clash is won by Saruman: 11 against 66.\n",
    "- ...\n",
    "\n",
    "You will create two variables, one for each sorcerer, where the sum of clashes won will be stored. Depending on which variable is greater at the end of the duel, you will show one of the following three results on the screen:\n",
    "* Gandalf wins\n",
    "* Saruman wins\n",
    "* Tie\n",
    "\n",
    "<img src=\"images/content_lightning_bolt_big.jpg\" width=\"400\">"
   ]
  },
  {
   "cell_type": "markdown",
   "metadata": {},
   "source": [
    "## Tools\n",
    "You don't necessarily need to use all the tools. Maybe you opt to use some of them or completely different ones, they are given to help you shape the exercise. Programming exercises can be solved in many different ways.\n",
    "\n",
    "1. Data structures: **lists, dictionaries**\n",
    "2. Loop: **for loop**\n",
    "3. Conditional statements: **if-elif-else**\n",
    "4. Functions: **range(), len(), print()**\n",
    "\n",
    "## Tasks\n",
    "\n",
    "#### 1. Create two variables called `gandalf` and `saruman` and assign them the spell power lists. Create a variable called `spells` to store the number of spells that the sorcerers cast. "
   ]
  },
  {
   "cell_type": "code",
   "execution_count": 2,
   "metadata": {},
   "outputs": [],
   "source": [
    "gandalf=[10, 11, 13, 30, 22, 11, 10, 33, 22, 22]\n",
    "saruman=[23, 66, 12, 43, 12, 10, 44, 23, 12, 17]\n",
    "spells=[0]"
   ]
  },
  {
   "cell_type": "markdown",
   "metadata": {},
   "source": [
    "#### 2. Create two variables called `gandalf_wins` and `saruman_wins`. Set both of them to 0. \n",
    "You will use these variables to count the number of clashes each sorcerer wins. "
   ]
  },
  {
   "cell_type": "code",
   "execution_count": 3,
   "metadata": {},
   "outputs": [],
   "source": [
    "gandalf_wins=[] #this variable will accumulate 1's from the iteration\n",
    "saruman_wins=[] #this variable will accumulate 1's from the iteration\n",
    "tie=[] #this variable will accumulate 1's from the iteration"
   ]
  },
  {
   "cell_type": "markdown",
   "metadata": {},
   "source": [
    "#### 3. Using the lists of spells of both sorcerers, update variables `gandalf_wins` and `saruman_wins` to count the number of times each sorcerer wins a clash. "
   ]
  },
  {
   "cell_type": "code",
   "execution_count": 4,
   "metadata": {},
   "outputs": [
    {
     "name": "stdout",
     "output_type": "stream",
     "text": [
      "{2: 13, 4: 22, 5: 11, 7: 33, 8: 22, 9: 22}\n",
      "{0: 23, 1: 66, 3: 43, 6: 44}\n"
     ]
    }
   ],
   "source": [
    "counter=0\n",
    "for j in range(len(gandalf)):\n",
    "    counter=counter+1\n",
    "    spells.append(counter)  #storing the number of spells here.\n",
    "    \n",
    "zip_G = zip(spells, gandalf) # Create a zip object [aggregating in tuple] from Spells and Gandalf\n",
    "D_G = dict(zip_G) # Create a dictionary containing Gandalf's data from zip object\n",
    "\n",
    "zip_S = zip(spells, saruman) # Create a zip object [aggregating in tuple] from Spells and Saruman\n",
    "D_S = dict(zip_S) # Create a dictionary containing Gandalf's data from zip object\n",
    "\n",
    "gandalf_wins = {k: D_G[k] for k in D_G if k in D_S and D_G[k] > D_S[k]}\n",
    "saruman_wins = {k: D_S[k] for k in D_S if k in D_G and D_G[k] < D_S[k]}\n",
    "\n",
    "print(gandalf_wins)\n",
    "print(saruman_wins)"
   ]
  },
  {
   "cell_type": "markdown",
   "metadata": {},
   "source": [
    "#### 4. Who won the battle?\n",
    "Print `Gandalf wins`, `Saruman wins` or `Tie` depending on the result. "
   ]
  },
  {
   "cell_type": "code",
   "execution_count": 5,
   "metadata": {},
   "outputs": [
    {
     "name": "stdout",
     "output_type": "stream",
     "text": [
      "Gandalf wins\n"
     ]
    }
   ],
   "source": [
    "if len(gandalf_wins)>len(saruman_wins):\n",
    "    print (\"Gandalf wins\")\n",
    "elif len(gandalf_wins)<len(saruman_wins):\n",
    "    print (\"Saruman wins\")\n",
    "else:\n",
    "    print (\"Tie\")"
   ]
  },
  {
   "cell_type": "markdown",
   "metadata": {},
   "source": [
    "## Bonus\n",
    "\n",
    "In this bonus challenge, you'll need to check the winner of the battle but this time, a sorcerer wins if he succeeds in winning 3 spell clashes in a row.\n",
    "\n",
    "Also, the spells now have a name and there is a dictionary that associates that name to a power.\n",
    "\n",
    "```\n",
    "POWER = {\n",
    "    'Fireball': 50, \n",
    "    'Lightning bolt': 40, \n",
    "    'Magic arrow': 10, \n",
    "    'Black Tentacles': 25, \n",
    "    'Contagion': 45\n",
    "}\n",
    "\n",
    "gandalf = ['Fireball', 'Lightning bolt', 'Lightning bolt', 'Magic arrow', 'Fireball', \n",
    "           'Magic arrow', 'Lightning bolt', 'Fireball', 'Fireball', 'Fireball']\n",
    "saruman = ['Contagion', 'Contagion', 'Black Tentacles', 'Fireball', 'Black Tentacles', \n",
    "           'Lightning bolt', 'Magic arrow', 'Contagion', 'Magic arrow', 'Magic arrow']\n",
    "```\n",
    "\n",
    "#### 1. Create variables `POWER`, `gandalf` and `saruman` as seen above. Create a variable called `spells` to store the number of spells that the sorcerers cast. "
   ]
  },
  {
   "cell_type": "code",
   "execution_count": 6,
   "metadata": {},
   "outputs": [],
   "source": [
    "POWER = {\n",
    "    'Fireball': 50, \n",
    "    'Lightning bolt': 40, \n",
    "    'Magic arrow': 10, \n",
    "    'Black Tentacles': 25, \n",
    "    'Contagion': 45\n",
    "}\n",
    "\n",
    "gandalf = ['Fireball', 'Lightning bolt', 'Lightning bolt', 'Magic arrow', 'Fireball', \n",
    "           'Magic arrow', 'Lightning bolt', 'Fireball', 'Fireball', 'Fireball']\n",
    "\n",
    "saruman = ['Contagion', 'Contagion', 'Black Tentacles', 'Fireball', 'Black Tentacles', \n",
    "           'Lightning bolt', 'Magic arrow', 'Contagion', 'Magic arrow', 'Magic arrow']\n",
    "spells=[]"
   ]
  },
  {
   "cell_type": "markdown",
   "metadata": {},
   "source": [
    "#### 2. Create two variables called `gandalf_wins` and `saruman_wins`. Set both of them to 0. "
   ]
  },
  {
   "cell_type": "code",
   "execution_count": 7,
   "metadata": {},
   "outputs": [],
   "source": [
    "gandalf_wins=[] #this var. will accumulate 1's from the iteration\n",
    "saruman_wins=[] #this var. will accumulate 1's from the iteration"
   ]
  },
  {
   "cell_type": "markdown",
   "metadata": {},
   "source": [
    "#### 3. Create two variables called `gandalf_power` and `saruman_power` to store the list of spell powers of each sorcerer."
   ]
  },
  {
   "cell_type": "code",
   "execution_count": 8,
   "metadata": {},
   "outputs": [],
   "source": [
    "gandalf_power=[] #stores list of spells power from Gandalf\n",
    "saruman_power=[] #stores list of spells power from Saruman"
   ]
  },
  {
   "cell_type": "markdown",
   "metadata": {},
   "source": [
    "#### 4. The battle starts! Using the variables you've created above, code the execution of spell clashes. Remember that a sorcerer wins if he succeeds in winning 3 spell clashes in a row. \n",
    "If a clash ends up in a tie, the counter of wins in a row is not restarted to 0. Remember to print who is the winner of the battle. "
   ]
  },
  {
   "cell_type": "code",
   "execution_count": 27,
   "metadata": {},
   "outputs": [
    {
     "name": "stdout",
     "output_type": "stream",
     "text": [
      "Gandalf won in the following rounds:  {1: 50, 3: 40, 5: 50, 7: 40, 8: 50, 9: 50, 10: 50}\n",
      "Saruman won in the following rounds:  {2: 45, 4: 50, 6: 40}\n",
      "[1, 3, 5, 7, 8, 9, 10]\n"
     ]
    }
   ],
   "source": [
    "for i in gandalf:\n",
    "    gandalf_power.append(POWER[i]) #building list w values of the powers for Gandalf\n",
    "    \n",
    "for i in saruman:\n",
    "    saruman_power.append(POWER[i]) #building list w the values of the powers for Saruman\n",
    "\n",
    "counter=0\n",
    "for j in range(len(gandalf)):\n",
    "    counter=counter+1\n",
    "    spells.append(counter)  #storing the number of spells here.\n",
    "    \n",
    "zip_G = zip(spells, gandalf_power) # Create a zip object [aggregating in tuple] from Spells and Gandalf\n",
    "D_G = dict(zip_G) # Create a dictionary containing Gandalf's data from zip object\n",
    "\n",
    "zip_S = zip(spells, saruman_power) # Create a zip object [aggregating in tuple] from Spells and Saruman\n",
    "D_S = dict(zip_S) # Create a dictionary containing Gandalf's data from zip object\n",
    "\n",
    "gandalf_wins = {k: D_G[k] for k in D_G if k in D_S and D_G[k] > D_S[k]}\n",
    "saruman_wins = {k: D_S[k] for k in D_S if k in D_G and D_G[k] < D_S[k]}\n",
    "\n",
    "print(\"Gandalf won in the following rounds: \",gandalf_wins)\n",
    "print(\"Saruman won in the following rounds: \",saruman_wins)\n",
    "\n",
    "list_G_wins=list(gandalf_wins.keys()) #next we'll convert the dictionary to a list to check afterwards the consecutive rounds won\n",
    "list_S_wins=list(saruman_wins.keys())\n",
    "\n",
    "def check_cons_rounds(n, l): #function to check if sorcerer's power list \"l\" has won consecutive \"n\" rounds.\n",
    "    subs = [l[i:i+n] for i in range(len(l)) if len(l[i:i+n]) == n]\n",
    "    return any([(sorted(sub) in range(min(l), max(l)+n)) for sub in subs])\n",
    "\n",
    "G_consec_check=check_cons_rounds(3,list_G_wins)  #boolean to check if Gandalf won 3 consecutive rounds - not working...\n",
    "S_consec_check=check_cons_rounds(3,list_S_wins)  #boolean to check if Saruman won 3 consecutive rounds"
   ]
  },
  {
   "cell_type": "markdown",
   "metadata": {},
   "source": [
    "#### 5. Find the average spell power of Gandalf and Saruman. "
   ]
  },
  {
   "cell_type": "code",
   "execution_count": null,
   "metadata": {},
   "outputs": [],
   "source": []
  },
  {
   "cell_type": "markdown",
   "metadata": {},
   "source": [
    "#### 6. Find the standard deviation of the spell power of Gandalf and Saruman. "
   ]
  },
  {
   "cell_type": "code",
   "execution_count": null,
   "metadata": {},
   "outputs": [],
   "source": []
  }
 ],
 "metadata": {
  "kernelspec": {
   "display_name": "Python 3",
   "language": "python",
   "name": "python3"
  },
  "language_info": {
   "codemirror_mode": {
    "name": "ipython",
    "version": 3
   },
   "file_extension": ".py",
   "mimetype": "text/x-python",
   "name": "python",
   "nbconvert_exporter": "python",
   "pygments_lexer": "ipython3",
   "version": "3.7.6"
  }
 },
 "nbformat": 4,
 "nbformat_minor": 2
}
